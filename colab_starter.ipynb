{
  "nbformat": 4,
  "nbformat_minor": 0,
  "metadata": {
    "colab": {
      "name": "colab_starter.ipynb",
      "provenance": []
    },
    "kernelspec": {
      "name": "python3",
      "display_name": "Python 3"
    }
  },
  "cells": [
    {
      "cell_type": "code",
      "metadata": {
        "id": "DXPMB4syxTCF",
        "colab_type": "code",
        "colab": {
          "base_uri": "https://localhost:8080/",
          "height": 235
        },
        "outputId": "c6036e66-19c0-4a98-8028-cd25ead88ac9"
      },
      "source": [
        "!pip install colabcode"
      ],
      "execution_count": 1,
      "outputs": [
        {
          "output_type": "stream",
          "text": [
            "Collecting colabcode\n",
            "  Downloading https://files.pythonhosted.org/packages/26/ef/3d612c8c4a189be1fde7e0a54c7b3043025f6100e0500b0b416d82d2095a/colabcode-0.0.8-py3-none-any.whl\n",
            "Collecting pyngrok>=4.1.11\n",
            "  Downloading https://files.pythonhosted.org/packages/d1/4e/c050f5ed75f60cca4e9cc0a7056a9b424707a09f6293756e7dd19beb10db/pyngrok-4.1.12.tar.gz\n",
            "Requirement already satisfied: future in /usr/local/lib/python3.6/dist-packages (from pyngrok>=4.1.11->colabcode) (0.16.0)\n",
            "Requirement already satisfied: PyYAML in /usr/local/lib/python3.6/dist-packages (from pyngrok>=4.1.11->colabcode) (3.13)\n",
            "Building wheels for collected packages: pyngrok\n",
            "  Building wheel for pyngrok (setup.py) ... \u001b[?25l\u001b[?25hdone\n",
            "  Created wheel for pyngrok: filename=pyngrok-4.1.12-cp36-none-any.whl size=16810 sha256=66a911511e9f8ad3ac753fe96ed28501f6a58a151c19f2fa7981edc0b7502c7a\n",
            "  Stored in directory: /root/.cache/pip/wheels/69/c3/d6/6968dd4d831794d41c311be1d7af6f4ac151c5d3bd0e6efab8\n",
            "Successfully built pyngrok\n",
            "Installing collected packages: pyngrok, colabcode\n",
            "Successfully installed colabcode-0.0.8 pyngrok-4.1.12\n"
          ],
          "name": "stdout"
        }
      ]
    },
    {
      "cell_type": "code",
      "metadata": {
        "id": "jPNTUYTDxbkC",
        "colab_type": "code",
        "colab": {}
      },
      "source": [
        "from colabcode import ColabCode"
      ],
      "execution_count": 2,
      "outputs": []
    },
    {
      "cell_type": "code",
      "metadata": {
        "id": "M6bGiCAGxilQ",
        "colab_type": "code",
        "colab": {
          "base_uri": "https://localhost:8080/",
          "height": 151
        },
        "outputId": "f8ac3bad-afcc-4fcf-8e33-03db29af3aff"
      },
      "source": [
        "ColabCode(port=10000, password=\"abhishek\")"
      ],
      "execution_count": null,
      "outputs": [
        {
          "output_type": "stream",
          "text": [
            "Code Server can be accessed on: https://76ffb6b74080.ngrok.io\n",
            "[2020-09-15T16:39:33.988Z] info  Using config file ~/.config/code-server/config.yaml\n",
            "[2020-09-15T16:39:34.230Z] info  Using user-data-dir ~/.local/share/code-server\n",
            "[2020-09-15T16:39:34.235Z] info  code-server 3.5.0 de41646fc402b968ca6d555fdf2da7de9554d28a\n",
            "[2020-09-15T16:39:34.239Z] info  HTTP server listening on http://127.0.0.1:10000\n",
            "[2020-09-15T16:39:34.239Z] info      - Using password from $PASSWORD\n",
            "[2020-09-15T16:39:34.239Z] info      - To disable use `--auth none`\n",
            "[2020-09-15T16:39:34.240Z] info    - Not serving HTTPS\n"
          ],
          "name": "stdout"
        }
      ]
    },
    {
      "cell_type": "code",
      "metadata": {
        "id": "txznnS0b-kqQ",
        "colab_type": "code",
        "colab": {}
      },
      "source": [
        ""
      ],
      "execution_count": null,
      "outputs": []
    }
  ]
}